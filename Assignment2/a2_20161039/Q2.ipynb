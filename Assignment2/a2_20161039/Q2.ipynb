{
 "cells": [
  {
   "cell_type": "markdown",
   "metadata": {},
   "source": [
    "# Q2"
   ]
  },
  {
   "cell_type": "markdown",
   "metadata": {},
   "source": [
    "## Part 1"
   ]
  },
  {
   "cell_type": "markdown",
   "metadata": {},
   "source": [
    "Yes. $A$ is a linear operator. \n",
    "Any linear operator must follow the following two properties:\n",
    "1. $A(I_1 + I_2) = A(I_1) + A(I_2)$ where $I_1$ and $I_2$ are two matrices - \n",
    "\n",
    "The first row of matrix $I_1 + I_2$ is equal to the sum of the first rows of $I_1$ and $I_2$.\n",
    "Hence, this property holds.\n",
    "\n",
    "2. $kA(I) = A(kI)$ for any matrix I and any scalar k - \n",
    "\n",
    "The first row of matrix $I$ scaled by the $k$ is the same as the first row of the scaled matrix $kI$.\n",
    "Hence, the second property also holds.\n",
    "\n",
    "Because both these properties hold, $A$ is a linear operator."
   ]
  },
  {
   "cell_type": "markdown",
   "metadata": {},
   "source": [
    "## Part 2"
   ]
  },
  {
   "cell_type": "markdown",
   "metadata": {},
   "source": [
    "The one-dimensional form of the image would be a matrix of dimensions $mn$ x $1$. The output would then be a matrix of dimensions $n$ x $1$. Hence, the dimensions of operator $A$ would be $n$ x $mn$. $A$ is therefore a matrix of zeros and each row $k$ of $A$ has a $1$ at column $k$.\n",
    "\n",
    "$$\n",
    "\\left(\\begin{array}{cc} \n",
    "1 & 0 & 0 & ...\\\\\n",
    "0 & 1 & 0 & ...\\\\\n",
    "0 & 0 & 1 & ...\\\\\n",
    "... & ... & ...& ...\n",
    "\\end{array}\\right) \n",
    "n \\times mn\n",
    "$$"
   ]
  },
  {
   "cell_type": "markdown",
   "metadata": {},
   "source": [
    "## Part 3 "
   ]
  },
  {
   "cell_type": "markdown",
   "metadata": {},
   "source": [
    "The nullspace of $A$ contains images whose first row is just black pixels (0 intensity)."
   ]
  },
  {
   "cell_type": "code",
   "execution_count": null,
   "metadata": {},
   "outputs": [],
   "source": []
  }
 ],
 "metadata": {
  "kernelspec": {
   "display_name": "Python 3",
   "language": "python",
   "name": "python3"
  },
  "language_info": {
   "codemirror_mode": {
    "name": "ipython",
    "version": 3
   },
   "file_extension": ".py",
   "mimetype": "text/x-python",
   "name": "python",
   "nbconvert_exporter": "python",
   "pygments_lexer": "ipython3",
   "version": "3.5.2"
  }
 },
 "nbformat": 4,
 "nbformat_minor": 2
}
