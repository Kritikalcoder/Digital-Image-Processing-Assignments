{
 "cells": [
  {
   "cell_type": "markdown",
   "metadata": {},
   "source": [
    "# Q2"
   ]
  },
  {
   "cell_type": "markdown",
   "metadata": {},
   "source": [
    "## 1."
   ]
  },
  {
   "cell_type": "markdown",
   "metadata": {},
   "source": [
    "Yes, $A$ is a linear operator. This can be proved by showing the two properties:\n",
    "1. $A(I + J) = A(I) + A(J)$ for two images $I$ and $J$. This is because the sum of the first rows of $I$ and $J$ is just the first row of the matrix $I + J$.\n",
    "2. $cA(I) = A(cI)$. This is because the first row of the scaled image, $cI$, is the same of the first row of image $I$ scaled by the same amount."
   ]
  },
  {
   "cell_type": "markdown",
   "metadata": {},
   "source": [
    "## 2."
   ]
  },
  {
   "cell_type": "markdown",
   "metadata": {},
   "source": [
    "Let's assume that the image is a matrix of dimensions $mn$ x $1$. The output should be a matrix of dimensions $n$ x $1$. Hence, the dimensions of operator $A$ must be $n$ x $mn$. Each row $i$ of $A$ is a row of $0$s with a $1$ at position $i$.\n",
    "\n",
    "$$\n",
    "\\left(\\begin{array}{cc} \n",
    "1 & 0 & 0 & ...\\\\\n",
    "0 & 1 & 0 & ...\\\\\n",
    "0 & 0 & 1 & ...\\\\\n",
    "... & ... & ...& ...\n",
    "\\end{array}\\right) \n",
    "n \\times mn\n",
    "$$"
   ]
  },
  {
   "cell_type": "markdown",
   "metadata": {},
   "source": [
    "## 3. "
   ]
  },
  {
   "cell_type": "markdown",
   "metadata": {},
   "source": [
    "Images in the nullspace of $A$ have a first row that is filled with black pixels."
   ]
  },
  {
   "cell_type": "code",
   "execution_count": null,
   "metadata": {},
   "outputs": [],
   "source": []
  }
 ],
 "metadata": {
  "kernelspec": {
   "display_name": "Python 3",
   "language": "python",
   "name": "python3"
  },
  "language_info": {
   "codemirror_mode": {
    "name": "ipython",
    "version": 3
   },
   "file_extension": ".py",
   "mimetype": "text/x-python",
   "name": "python",
   "nbconvert_exporter": "python",
   "pygments_lexer": "ipython3",
   "version": "3.5.2"
  }
 },
 "nbformat": 4,
 "nbformat_minor": 2
}
