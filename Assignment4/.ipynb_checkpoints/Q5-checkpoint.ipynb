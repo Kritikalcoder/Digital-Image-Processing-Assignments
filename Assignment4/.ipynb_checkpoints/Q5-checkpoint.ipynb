{
 "cells": [
  {
   "cell_type": "markdown",
   "metadata": {},
   "source": [
    "# Q5"
   ]
  },
  {
   "cell_type": "code",
   "execution_count": 7,
   "metadata": {},
   "outputs": [],
   "source": [
    "# library imports\n",
    "import sys, math, os\n",
    "import numpy as np\n",
    "from numpy import abs, log, rot90, hstack, fft, copy, vstack, ones, zeros\n",
    "from numpy.fft import fftshift, fft2\n",
    "from skimage import io, util, color, data, filters, img_as_ubyte, transform, img_as_float, exposure\n",
    "from skimage.color import rgb2lab, rgb2hsv, hsv2rgb, lab2rgb, rgb2gray\n",
    "from skimage.io import imread, imshow\n",
    "import matplotlib.pyplot as plt\n",
    "from scipy.ndimage import filters, sobel\n",
    "from skimage.transform import hough_circle, hough_circle_peaks\n",
    "from skimage.feature import canny\n",
    "from skimage.draw import circle_perimeter\n",
    "from skimage.util import img_as_ubyte\n",
    "from collections import defaultdict\n",
    "from scipy import misc"
   ]
  },
  {
   "cell_type": "code",
   "execution_count": 33,
   "metadata": {},
   "outputs": [
    {
     "data": {
      "image/png": "[encoded data removed]",
      "text/plain": [
       "<Figure size 432x288 with 10 Axes>"
      ]
     },
     "metadata": {},
     "output_type": "display_data"
    }
   ],
   "source": [
    "# 3-channel 100 × 100 HSI image with values of S and I to be 255\n",
    "def colorize(hsv, hue):\n",
    "    hsv[:, :, 0] = hue\n",
    "    hsv[:, :, 1] = 1\n",
    "    return color.hsv2rgb(hsv)\n",
    "\n",
    "gen_im = ones((100,100,3))\n",
    "hue_rotations = np.linspace(0.33333333, 0.66666667, 10)\n",
    "colorful_images = [colorize(gen_im, hue) for hue in hue_rotations]\n",
    "\n",
    "\n",
    "fig, axes = plt.subplots(nrows=1, ncols=10)\n",
    "for ax, array in zip(axes.flat, colorful_images):\n",
    "    ax.imshow(array, vmin=0, vmax=1)\n",
    "    ax.set_axis_off()\n",
    "plt.show()"
   ]
  },
  {
   "cell_type": "markdown",
   "metadata": {},
   "source": [
    "### Part 1\n",
    "\n",
    "Change in hue with uniform increase in step-size:  \n",
    "\n",
    "Some transitions are more drastic than other transitions perceptually. For example, 1, 2 and 3 look almost the same, whereas, 5, 6 and 7 appear as distinctly different colours, despite being equidistant with respect to this colour space."
   ]
  },
  {
   "cell_type": "markdown",
   "metadata": {},
   "source": [
    "### Part 2: Perceptually Uniform Transition"
   ]
  },
  {
   "cell_type": "code",
   "execution_count": 48,
   "metadata": {
    "scrolled": false
   },
   "outputs": [
    {
     "data": {
      "image/png": "[encoded data removed]",
      "text/plain": [
       "<Figure size 432x288 with 10 Axes>"
      ]
     },
     "metadata": {},
     "output_type": "display_data"
    }
   ],
   "source": [
    "# CIE L*a*b Colour space\n",
    "def colorize_lab(lab, l, a, b):\n",
    "    lab[:, :, 0] = l\n",
    "    lab[:, :, 1] = a\n",
    "    lab[:, :, 2] = b\n",
    "    return lab2rgb(lab)\n",
    "\n",
    "gen_im = ones((100,100,3))\n",
    "L = np.linspace(87.73509949, 32.29567257, 10)\n",
    "A = np.linspace(-86.18302974, 79.18559091, 10)\n",
    "B = np.linspace(83.17970318, -107.85730021, 10)\n",
    "colorful_images = [colorize_lab(gen_im, v1, v2, v3) for (v1, v2, v3) in zip(L, A, B)]\n",
    "\n",
    "fig, axes = plt.subplots(nrows=1, ncols=10)\n",
    "for ax, array in zip(axes.flat, colorful_images):\n",
    "    ax.imshow(array, vmin=0, vmax=1)\n",
    "    ax.set_axis_off()\n",
    "plt.show()"
   ]
  },
  {
   "cell_type": "code",
   "execution_count": null,
   "metadata": {},
   "outputs": [],
   "source": []
  }
 ],
 "metadata": {
  "kernelspec": {
   "display_name": "Python 3",
   "language": "python",
   "name": "python3"
  },
  "language_info": {
   "codemirror_mode": {
    "name": "ipython",
    "version": 3
   },
   "file_extension": ".py",
   "mimetype": "text/x-python",
   "name": "python",
   "nbconvert_exporter": "python",
   "pygments_lexer": "ipython3",
   "version": "3.5.2"
  }
 },
 "nbformat": 4,
 "nbformat_minor": 2
}
