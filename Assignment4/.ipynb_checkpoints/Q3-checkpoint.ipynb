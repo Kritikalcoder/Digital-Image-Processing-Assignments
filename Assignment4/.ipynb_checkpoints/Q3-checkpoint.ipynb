{
 "cells": [
  {
   "cell_type": "code",
   "execution_count": 21,
   "metadata": {},
   "outputs": [],
   "source": [
    "# library imports\n",
    "import sys, math, os\n",
    "import numpy as np\n",
    "from numpy import abs, log, rot90, hstack, fft, copy, vstack, ones, zeros, invert, unique, uint8, uint\n",
    "from numpy.fft import fftshift, fft2\n",
    "from skimage import io, util, color, data, filters, img_as_ubyte, transform, img_as_float, exposure\n",
    "from skimage.color import rgb2lab, rgb2hsv, hsv2rgb, lab2rgb, rgb2gray\n",
    "from skimage.io import imread, imshow\n",
    "import matplotlib.pyplot as plt\n",
    "from scipy.ndimage import filters, sobel\n",
    "from skimage.transform import hough_circle, hough_circle_peaks\n",
    "from skimage.feature import canny\n",
    "from skimage.draw import circle_perimeter\n",
    "from skimage.util import img_as_ubyte\n",
    "from collections import defaultdict\n",
    "from scipy import misc"
   ]
  },
  {
   "cell_type": "markdown",
   "metadata": {},
   "source": [
    "# Q3"
   ]
  },
  {
   "cell_type": "markdown",
   "metadata": {},
   "source": [
    "## Part 1"
   ]
  },
  {
   "cell_type": "code",
   "execution_count": 25,
   "metadata": {},
   "outputs": [
    {
     "name": "stdout",
     "output_type": "stream",
     "text": [
      "244\n",
      "28\n",
      "25\n",
      "75\n",
      "35\n"
     ]
    },
    {
     "data": {
      "image/png": "[encoded data removed]",
      "text/plain": [
       "<Figure size 432x288 with 1 Axes>"
      ]
     },
     "metadata": {},
     "output_type": "display_data"
    },
    {
     "data": {
      "image/png": "[encoded data removed]",
      "text/plain": [
       "<Figure size 432x288 with 1 Axes>"
      ]
     },
     "metadata": {},
     "output_type": "display_data"
    },
    {
     "data": {
      "image/png": "[encoded data removed]",
      "text/plain": [
       "<Figure size 432x288 with 1 Axes>"
      ]
     },
     "metadata": {},
     "output_type": "display_data"
    },
    {
     "data": {
      "image/png": "[encoded data removed]",
      "text/plain": [
       "<Figure size 432x288 with 1 Axes>"
      ]
     },
     "metadata": {},
     "output_type": "display_data"
    },
    {
     "data": {
      "image/png": "[encoded data removed]",
      "text/plain": [
       "<Figure size 432x288 with 1 Axes>"
      ]
     },
     "metadata": {},
     "output_type": "display_data"
    }
   ],
   "source": [
    "def neighbouring_pixels(img, L, i, j):\n",
    "    neighbours = []\n",
    "    labels = []\n",
    "    if i - 1 >= 0 and j + 1 < img.shape[1]:\n",
    "        if img[i - 1, j + 1] == 255:\n",
    "            \n",
    "            labels.append(L[i - 1, j + 1])\n",
    "            neighbours.append(img[i - 1, j + 1])\n",
    "            \n",
    "    if i - 1 >= 0 and j - 1 >= 0:\n",
    "        if img[i - 1, j - 1] == 255:\n",
    "            \n",
    "            labels.append(L[i - 1, j - 1])\n",
    "            neighbours.append(img[i - 1, j - 1])\n",
    "            \n",
    "    if i - 1 >= 0:\n",
    "        if img[i - 1, j] == 255:\n",
    "            \n",
    "            labels.append(L[i - 1, j])\n",
    "            neighbours.append(img[i - 1, j])\n",
    "    \n",
    "    if j - 1 >= 0:\n",
    "        if img[i, j - 1] == 255:\n",
    "            \n",
    "            labels.append(L[i, j - 1])\n",
    "            neighbours.append(img[i, j - 1])\n",
    "    \n",
    "    return labels, neighbours\n",
    "\n",
    "class Disjoint_Set_Union:\n",
    "    \n",
    "    def __init__(self):\n",
    "        self.parent = {}\n",
    "        \n",
    "    def union(self, x, y): \n",
    "        \n",
    "        x_set = self.find_parent(x) \n",
    "        y_set = self.find_parent(y)\n",
    "        \n",
    "        if x_set != y_set:\n",
    "            self.parent[x_set] = y_set \n",
    "            \n",
    "    def find_parent(self, i): \n",
    "        if self.parent[i] == -1: \n",
    "            return i \n",
    "        if self.parent[i] != -1: \n",
    "            return self.find_parent(self.parent[i])\n",
    "\n",
    "def Connected_Components_Labelling(img):\n",
    "    \n",
    "    X = img.shape[0]\n",
    "    Y = img.shape[1]\n",
    "    \n",
    "    next_label = 1 \n",
    "    labels = zeros((X, Y), dtype=uint)\n",
    "    \n",
    "    dsu = Disjoint_Set_Union()\n",
    "       \n",
    "    for row in range(X):\n",
    "        for column in range(Y):\n",
    "            \n",
    "            if img[row, column] == 255:\n",
    "                \n",
    "                neighbours_labels, neighbours = neighbouring_pixels(img, labels, row, column)\n",
    "                    \n",
    "                if len(neighbours) != 0:\n",
    "                    labels[row, column] = min(neighbours_labels)\n",
    "                    for label in neighbours_labels:\n",
    "                        dsu.union(label, labels[row, column])\n",
    "\n",
    "                else:    \n",
    "                    dsu.parent[next_label] = -1\n",
    "                    labels[row, column] = next_label\n",
    "                    next_label += 1\n",
    "                        \n",
    "    for row in range(X):\n",
    "        for column in range(Y):\n",
    "            \n",
    "            if img[row, column] != 0:\n",
    "                labels[row, column] = dsu.find_parent(labels[row][column])\n",
    "\n",
    "    unique_labels = unique(labels).tolist()\n",
    "    \n",
    "    return len(unique_labels), labels\n",
    "\n",
    "comp = imread('./images/languages.png')\n",
    "\n",
    "colors = [[0, 0, 0], \n",
    "          [31, 73, 125], \n",
    "          [255, 0, 0], \n",
    "          [0, 176, 80], \n",
    "          [112, 48, 160]]\n",
    "\n",
    "imgs = []\n",
    "for color in colors:\n",
    "    A = comp.shape[0]\n",
    "    B = comp.shape[1]\n",
    "    \n",
    "    img_color = zeros((A, B), dtype=uint8)\n",
    "    \n",
    "    for i in range(A):\n",
    "        for j in range(B):\n",
    "            \n",
    "            if comp[i, j, :].tolist() == color:\n",
    "                img_color[i, j] = 255\n",
    "    imgs.append(img_color)\n",
    "\n",
    "for img in imgs:\n",
    "    n, epl = Connected_Components_Labelling(img)\n",
    "    print(n)\n",
    "    \n",
    "    plt.figure()\n",
    "    plt.imshow(invert(img), cmap=\"gray\")"
   ]
  },
  {
   "cell_type": "markdown",
   "metadata": {},
   "source": [
    "## Part 2"
   ]
  },
  {
   "cell_type": "code",
   "execution_count": 16,
   "metadata": {},
   "outputs": [],
   "source": [
    "hindi = imread(\"./images/hindi.jpg\")\n",
    "telugu = imread(\"./images/telugu.jpeg\")\n",
    "tamil = imread(\"./images/tamil.jpeg\")"
   ]
  },
  {
   "cell_type": "markdown",
   "metadata": {},
   "source": [
    "### Sub part a) : Letters enclosing one empty region"
   ]
  },
  {
   "cell_type": "code",
   "execution_count": null,
   "metadata": {},
   "outputs": [],
   "source": [
    "comp = imread('./images/languages.png')\n",
    "\n",
    "colors = [[0, 0, 0], \n",
    "          [31, 73, 125], \n",
    "          [255, 0, 0], \n",
    "          [0, 176, 80], \n",
    "          [112, 48, 160]]\n",
    "\n",
    "imgs = []\n",
    "for color in colors:\n",
    "    A = comp.shape[0]\n",
    "    B = comp.shape[1]\n",
    "    \n",
    "    img_color = zeros((A, B), dtype=uint8)\n",
    "    \n",
    "    for i in range(A):\n",
    "        for j in range(B):\n",
    "            \n",
    "            if comp[i, j, :].tolist() == color:\n",
    "                img_color[i, j] = 255\n",
    "    imgs.append(img_color)\n",
    "\n",
    "for img in imgs:\n",
    "    n, epl = Connected_Components_Labelling(img)\n",
    "    print(n)\n",
    "    \n",
    "    plt.figure()\n",
    "    plt.imshow(invert(img), cmap=\"gray\")"
   ]
  },
  {
   "cell_type": "markdown",
   "metadata": {},
   "source": [
    "### Sub part b): Letters enclosing two empty regions"
   ]
  },
  {
   "cell_type": "code",
   "execution_count": null,
   "metadata": {},
   "outputs": [],
   "source": [
    "comp = imread('./images/languages.png')\n",
    "\n",
    "colors = [[0, 0, 0], \n",
    "          [31, 73, 125], \n",
    "          [255, 0, 0], \n",
    "          [0, 176, 80], \n",
    "          [112, 48, 160]]\n",
    "\n",
    "imgs = []\n",
    "for color in colors:\n",
    "    A = comp.shape[0]\n",
    "    B = comp.shape[1]\n",
    "    \n",
    "    img_color = zeros((A, B), dtype=uint8)\n",
    "    \n",
    "    for i in range(A):\n",
    "        for j in range(B):\n",
    "            \n",
    "            if comp[i, j, :].tolist() == color:\n",
    "                img_color[i, j] = 255\n",
    "    imgs.append(img_color)\n",
    "\n",
    "for img in imgs:\n",
    "    n, epl = Connected_Components_Labelling(img)\n",
    "    print(n)\n",
    "    \n",
    "    plt.figure()\n",
    "    plt.imshow(invert(img), cmap=\"gray\")"
   ]
  }
 ],
 "metadata": {
  "kernelspec": {
   "display_name": "Python 3",
   "language": "python",
   "name": "python3"
  },
  "language_info": {
   "codemirror_mode": {
    "name": "ipython",
    "version": 3
   },
   "file_extension": ".py",
   "mimetype": "text/x-python",
   "name": "python",
   "nbconvert_exporter": "python",
   "pygments_lexer": "ipython3",
   "version": "3.5.2"
  }
 },
 "nbformat": 4,
 "nbformat_minor": 2
}
